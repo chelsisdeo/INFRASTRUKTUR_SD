{
  "nbformat": 4,
  "nbformat_minor": 0,
  "metadata": {
    "colab": {
      "provenance": []
    },
    "kernelspec": {
      "name": "python3",
      "display_name": "Python 3"
    },
    "language_info": {
      "name": "python"
    }
  },
  "cells": [
    {
      "cell_type": "markdown",
      "source": [
        "##### Soal 1: Memecahkan Masalah Unik dengan Loop dan If-Else\n"
      ],
      "metadata": {
        "id": "lQKa7UogZAM5"
      }
    },
    {
      "cell_type": "code",
      "execution_count": 2,
      "metadata": {
        "colab": {
          "base_uri": "https://localhost:8080/"
        },
        "id": "6KBnpzncYRcN",
        "outputId": "449c79ce-08b2-41a7-e47c-8c9dfe0b8777"
      },
      "outputs": [
        {
          "output_type": "stream",
          "name": "stdout",
          "text": [
            "2 \n",
            "3 5 \n",
            "7 11 13 \n",
            "17 19 23 29 \n",
            "31 37 41 43 47 \n"
          ]
        }
      ],
      "source": [
        "def bilangan_prima (n):\n",
        "    if n <= 1:\n",
        "        return False\n",
        "    for i in range(2, int(n**0.5) + 1):\n",
        "        if n % i == 0:\n",
        "            return False\n",
        "    return True\n",
        "\n",
        "def angka_prima ():\n",
        "    num = 2\n",
        "    while True:\n",
        "        if bilangan_prima (num):\n",
        "            yield num\n",
        "        num += 1\n",
        "\n",
        "def baris_bilangan_prima(rows):\n",
        "    prime_gen = angka_prima ()\n",
        "    primes = [next(prime_gen) for _ in range(sum(range(1, rows + 1)))]\n",
        "    index = 0\n",
        "    for i in range(1, rows + 1):\n",
        "        for j in range(i):\n",
        "            print(primes[index], end=' ')\n",
        "            index += 1\n",
        "        print()\n",
        "\n",
        "# Contoh penggunaan\n",
        "baris_bilangan_prima(5)\n"
      ]
    },
    {
      "cell_type": "markdown",
      "source": [
        "#### Soal 2: Membuat Fungsi dengan Syarat Spesifik"
      ],
      "metadata": {
        "id": "hdXdBQHDZ_7s"
      }
    },
    {
      "cell_type": "code",
      "source": [
        "def gabungan_ganjil_dan_diurutkan_menurun(angka1, angka2):\n",
        "    # Mengambil angka atau elemen dengan indeks ganjil dari kedua list\n",
        "    odd_index_elements = angka1[1::2] + angka2[1::2]\n",
        "\n",
        "    # Mengurutkan elemen secara menurun\n",
        "    sorting = sorted(odd_index_elements, reverse=True)\n",
        "\n",
        "    return sorting\n",
        "\n",
        "# Contoh penggunan\n",
        "angka1 = [10, 2, 44, 43, 5, 65]\n",
        "angka2 = [11, 34, 33, 90, 15, 66]\n",
        "result = gabungan_ganjil_dan_diurutkan_menurun(angka1, angka2)\n",
        "print(result)\n"
      ],
      "metadata": {
        "colab": {
          "base_uri": "https://localhost:8080/"
        },
        "id": "RsbvBHF9Z_oe",
        "outputId": "7d58767a-12e5-4e3a-87c8-828230bb591f"
      },
      "execution_count": 7,
      "outputs": [
        {
          "output_type": "stream",
          "name": "stdout",
          "text": [
            "[90, 66, 65, 43, 34, 2]\n"
          ]
        }
      ]
    },
    {
      "cell_type": "markdown",
      "source": [
        "#### Soal 3: Exception Handling dalam Konteks Nyata"
      ],
      "metadata": {
        "id": "zt7JKaBpY-49"
      }
    },
    {
      "cell_type": "code",
      "source": [
        "def simulasi_atm():\n",
        "    pin_yang_benar = \"2404\"\n",
        "    saldo = 1000\n",
        "    percobaan = 0\n",
        "    percobaan_maksimal = 3\n",
        "\n",
        "    while percobaan < percobaan_maksimal:\n",
        "        pin = input(\"Masukkan PIN Anda: \")\n",
        "        if pin == pin_yang_benar:\n",
        "            print(\"PIN benar.\")\n",
        "            while True:\n",
        "                try:\n",
        "                    amount = float(input(\"Masukkan jumlah penarikan: \"))\n",
        "                    if amount > saldo:\n",
        "                        print(\"Saldo tidak mencukupi.\")\n",
        "                    else:\n",
        "                        saldo -= amount\n",
        "                        print(f\"Penarikan berhasil. Saldo akhir Anda adalah: {saldo}\")\n",
        "                        return\n",
        "                except ValueError:\n",
        "                    print(\"Masukkan jumlah yang valid.\")\n",
        "        else:\n",
        "            percobaan += 1\n",
        "            print(f\"PIN salah. Anda memiliki {percobaan_maksimal - percobaan} percobaan lagi.\")\n",
        "\n",
        "    print(\"Anda telah melebihi batas percobaan PIN.\")\n",
        "\n",
        "# Contoh penggunaan\n",
        "simulasi_atm()\n"
      ],
      "metadata": {
        "colab": {
          "base_uri": "https://localhost:8080/"
        },
        "id": "HOoDHZNdcYVf",
        "outputId": "6a0889df-7679-4997-933f-04bc47255e38"
      },
      "execution_count": 9,
      "outputs": [
        {
          "output_type": "stream",
          "name": "stdout",
          "text": [
            "Masukkan PIN Anda: 4444\n",
            "PIN salah. Anda memiliki 2 percobaan lagi.\n",
            "Masukkan PIN Anda: 2404\n",
            "PIN benar.\n",
            "Masukkan jumlah penarikan: 455566\n",
            "Saldo tidak mencukupi.\n",
            "Masukkan jumlah penarikan: 567\n",
            "Penarikan berhasil. Saldo akhir Anda adalah: 433.0\n"
          ]
        }
      ]
    },
    {
      "cell_type": "markdown",
      "source": [
        "#### Soal 4: Studi Kasus Pengelolaan Data"
      ],
      "metadata": {
        "id": "_mJ3Ef7FeADf"
      }
    },
    {
      "cell_type": "code",
      "source": [
        "import csv\n",
        "\n",
        "def read_csv_to_dict(filename):\n",
        "    data = {}\n",
        "    with open(filename, mode='r') as file:\n",
        "        csv_reader = csv.reader(file)\n",
        "        next(csv_reader)  # Skip header\n",
        "        for row in csv_reader:\n",
        "            name = row[0]\n",
        "            score = int(row[1])\n",
        "            data[name] = score\n",
        "    return data\n",
        "\n",
        "def calculate_average_scores(data):\n",
        "    total_score = sum(data.values())\n",
        "    average_score = total_score / len(data)\n",
        "    return average_score\n",
        "\n",
        "def find_highest_and_lowest(data):\n",
        "    highest = max(data, key=data.get)\n",
        "    lowest = min(data, key=data.get)\n",
        "    return highest, lowest\n",
        "\n",
        "# Contoh penggunaan\n",
        "filename = 'nilai_mahasiswa.csv'\n",
        "data = read_csv_to_dict(filename)\n",
        "average_score = calculate_average_scores(data)\n",
        "highest, lowest = find_highest_and_lowest(data)\n",
        "\n",
        "print(f\"Rata-rata nilai: {average_score}\")\n",
        "print(f\"Mahasiswa dengan nilai tertinggi: {highest} dengan nilai {data[highest]}\")\n",
        "print(f\"Mahasiswa dengan nilai terendah: {lowest} dengan nilai {data[lowest]}\")\n"
      ],
      "metadata": {
        "colab": {
          "base_uri": "https://localhost:8080/",
          "height": 332
        },
        "id": "IdG-wQORd-zu",
        "outputId": "76fb0c7a-8bd0-4e16-ebcf-a7fd66fc0cca"
      },
      "execution_count": 13,
      "outputs": [
        {
          "output_type": "error",
          "ename": "FileNotFoundError",
          "evalue": "[Errno 2] No such file or directory: 'nilai_mahasiswa.csv'",
          "traceback": [
            "\u001b[0;31m---------------------------------------------------------------------------\u001b[0m",
            "\u001b[0;31mFileNotFoundError\u001b[0m                         Traceback (most recent call last)",
            "\u001b[0;32m<ipython-input-13-70588e556d97>\u001b[0m in \u001b[0;36m<cell line: 26>\u001b[0;34m()\u001b[0m\n\u001b[1;32m     24\u001b[0m \u001b[0;31m# Contoh penggunaan\u001b[0m\u001b[0;34m\u001b[0m\u001b[0;34m\u001b[0m\u001b[0m\n\u001b[1;32m     25\u001b[0m \u001b[0mfilename\u001b[0m \u001b[0;34m=\u001b[0m \u001b[0;34m'nilai_mahasiswa.csv'\u001b[0m\u001b[0;34m\u001b[0m\u001b[0;34m\u001b[0m\u001b[0m\n\u001b[0;32m---> 26\u001b[0;31m \u001b[0mdata\u001b[0m \u001b[0;34m=\u001b[0m \u001b[0mread_csv_to_dict\u001b[0m\u001b[0;34m(\u001b[0m\u001b[0mfilename\u001b[0m\u001b[0;34m)\u001b[0m\u001b[0;34m\u001b[0m\u001b[0;34m\u001b[0m\u001b[0m\n\u001b[0m\u001b[1;32m     27\u001b[0m \u001b[0maverage_score\u001b[0m \u001b[0;34m=\u001b[0m \u001b[0mcalculate_average_scores\u001b[0m\u001b[0;34m(\u001b[0m\u001b[0mdata\u001b[0m\u001b[0;34m)\u001b[0m\u001b[0;34m\u001b[0m\u001b[0;34m\u001b[0m\u001b[0m\n\u001b[1;32m     28\u001b[0m \u001b[0mhighest\u001b[0m\u001b[0;34m,\u001b[0m \u001b[0mlowest\u001b[0m \u001b[0;34m=\u001b[0m \u001b[0mfind_highest_and_lowest\u001b[0m\u001b[0;34m(\u001b[0m\u001b[0mdata\u001b[0m\u001b[0;34m)\u001b[0m\u001b[0;34m\u001b[0m\u001b[0;34m\u001b[0m\u001b[0m\n",
            "\u001b[0;32m<ipython-input-13-70588e556d97>\u001b[0m in \u001b[0;36mread_csv_to_dict\u001b[0;34m(filename)\u001b[0m\n\u001b[1;32m      3\u001b[0m \u001b[0;32mdef\u001b[0m \u001b[0mread_csv_to_dict\u001b[0m\u001b[0;34m(\u001b[0m\u001b[0mfilename\u001b[0m\u001b[0;34m)\u001b[0m\u001b[0;34m:\u001b[0m\u001b[0;34m\u001b[0m\u001b[0;34m\u001b[0m\u001b[0m\n\u001b[1;32m      4\u001b[0m     \u001b[0mdata\u001b[0m \u001b[0;34m=\u001b[0m \u001b[0;34m{\u001b[0m\u001b[0;34m}\u001b[0m\u001b[0;34m\u001b[0m\u001b[0;34m\u001b[0m\u001b[0m\n\u001b[0;32m----> 5\u001b[0;31m     \u001b[0;32mwith\u001b[0m \u001b[0mopen\u001b[0m\u001b[0;34m(\u001b[0m\u001b[0mfilename\u001b[0m\u001b[0;34m,\u001b[0m \u001b[0mmode\u001b[0m\u001b[0;34m=\u001b[0m\u001b[0;34m'r'\u001b[0m\u001b[0;34m)\u001b[0m \u001b[0;32mas\u001b[0m \u001b[0mfile\u001b[0m\u001b[0;34m:\u001b[0m\u001b[0;34m\u001b[0m\u001b[0;34m\u001b[0m\u001b[0m\n\u001b[0m\u001b[1;32m      6\u001b[0m         \u001b[0mcsv_reader\u001b[0m \u001b[0;34m=\u001b[0m \u001b[0mcsv\u001b[0m\u001b[0;34m.\u001b[0m\u001b[0mreader\u001b[0m\u001b[0;34m(\u001b[0m\u001b[0mfile\u001b[0m\u001b[0;34m)\u001b[0m\u001b[0;34m\u001b[0m\u001b[0;34m\u001b[0m\u001b[0m\n\u001b[1;32m      7\u001b[0m         \u001b[0mnext\u001b[0m\u001b[0;34m(\u001b[0m\u001b[0mcsv_reader\u001b[0m\u001b[0;34m)\u001b[0m  \u001b[0;31m# Skip header\u001b[0m\u001b[0;34m\u001b[0m\u001b[0;34m\u001b[0m\u001b[0m\n",
            "\u001b[0;31mFileNotFoundError\u001b[0m: [Errno 2] No such file or directory: 'nilai_mahasiswa.csv'"
          ]
        }
      ]
    },
    {
      "cell_type": "markdown",
      "source": [
        "#### Soal 5: Kombinasi Logika dan Kreativitas"
      ],
      "metadata": {
        "id": "WChzHoeXhOYU"
      }
    },
    {
      "cell_type": "code",
      "source": [
        "import random\n",
        "\n",
        "def tebak_angka():\n",
        "    angka_rahasia = random.randint(1, 100)\n",
        "    percobaan = 5\n",
        "\n",
        "    print(\"Selamat datang di permainan tebak angka!\")\n",
        "    print(\"Saya telah memilih sebuah angka antara 1 hingga 100.\")\n",
        "    print(f\"Anda memiliki {percobaan} kali percobaan untuk menebak angka tersebut.\")\n",
        "\n",
        "    for i in range(percobaan):\n",
        "        tebakan = int(input(f\"Percobaan {i+1}: Masukkan tebakan Anda: \"))\n",
        "\n",
        "        if tebakan < angka_rahasia:\n",
        "            print(\"Terlalu kecil!\")\n",
        "        elif tebakan > angka_rahasia:\n",
        "            print(\"Terlalu besar!\")\n",
        "        else:\n",
        "            print(\"Selamat! Anda berhasil menebak angka dengan benar!\")\n",
        "            return\n",
        "\n",
        "    print(f\"Maaf, Anda telah kehabisan percobaan. Angka yang benar adalah {angka_rahasia}.\")\n",
        "\n",
        "# Menjalankan permainan\n",
        "tebak_angka()\n"
      ],
      "metadata": {
        "colab": {
          "base_uri": "https://localhost:8080/"
        },
        "id": "hF3vQbGohNm5",
        "outputId": "f724d0e9-3130-4d19-bdf5-a68ffd3acdfa"
      },
      "execution_count": 15,
      "outputs": [
        {
          "output_type": "stream",
          "name": "stdout",
          "text": [
            "Selamat datang di permainan tebak angka!\n",
            "Saya telah memilih sebuah angka antara 1 hingga 100.\n",
            "Anda memiliki 5 kali percobaan untuk menebak angka tersebut.\n",
            "Percobaan 1: Masukkan tebakan Anda: 78\n",
            "Terlalu besar!\n",
            "Percobaan 2: Masukkan tebakan Anda: 60\n",
            "Terlalu besar!\n",
            "Percobaan 3: Masukkan tebakan Anda: 50\n",
            "Terlalu besar!\n",
            "Percobaan 4: Masukkan tebakan Anda: 44\n",
            "Terlalu kecil!\n",
            "Percobaan 5: Masukkan tebakan Anda: 47\n",
            "Selamat! Anda berhasil menebak angka dengan benar!\n"
          ]
        }
      ]
    },
    {
      "cell_type": "markdown",
      "source": [
        "#### Soal 6: Rekursi yang Tidak Biasa"
      ],
      "metadata": {
        "id": "N_WqyIGjhNU3"
      }
    },
    {
      "cell_type": "code",
      "source": [
        "def factorial(n):\n",
        "    if n == 0 or n == 1:\n",
        "        return 1\n",
        "    else:\n",
        "        return n * factorial(n - 1)\n",
        "\n",
        "def generate_factorial_sequence(n):\n",
        "    sequence = []\n",
        "    for i in range(n + 1):\n",
        "        sequence.append(factorial(i))\n",
        "    return sequence\n",
        "\n",
        "# Contoh penggunaan\n",
        "n = 4\n",
        "result = generate_factorial_sequence(n)\n",
        "print(result)  # Output: [1, 1, 2, 6, 24]\n"
      ],
      "metadata": {
        "colab": {
          "base_uri": "https://localhost:8080/"
        },
        "id": "vSkqZACViH1J",
        "outputId": "d2574413-2f18-4948-f5a7-98fe5255b539"
      },
      "execution_count": 16,
      "outputs": [
        {
          "output_type": "stream",
          "name": "stdout",
          "text": [
            "[1, 1, 2, 6, 24]\n"
          ]
        }
      ]
    },
    {
      "cell_type": "markdown",
      "source": [
        "####Soal 7: Pemrograman dengan Algoritma Greedy"
      ],
      "metadata": {
        "id": "L1V4UK0td-jq"
      }
    },
    {
      "cell_type": "code",
      "source": [
        "def min_coin_change(coins, coba):\n",
        "    # Inisialisasi array dp dengan nilai tak terhingga\n",
        "    dp = [float('inf')] * (coba + 1)\n",
        "    dp[0] = 0  # Jumlah koin untuk mencapai 0 adalah 0\n",
        "\n",
        "    # Mengisi array dp\n",
        "    for coin in coins:\n",
        "        for x in range(coin, coba + 1):\n",
        "            dp[x] = min(dp[x], dp[x - coin] + 1)\n",
        "\n",
        "    # Jika dp[coba] masih tak terhingga, berarti tidak ada kombinasi koin yang bisa mencapai jumlah tersebut\n",
        "    return dp[coba] if dp[coba] != float('inf') else -1\n",
        "\n",
        "# Contoh penggunaan\n",
        "coins = [1, 5, 10, 25]\n",
        "coba = 63\n",
        "result = min_coin_change(coins, coba)\n",
        "\n",
        "if result != -1:\n",
        "    print(f\"Jumlah minimum koin yang diperlukan: {result}\")\n",
        "else:\n",
        "    print(\"Tidak ada kombinasi koin yang dapat mencapai jumlah tersebut.\")\n"
      ],
      "metadata": {
        "colab": {
          "base_uri": "https://localhost:8080/"
        },
        "id": "y2igxVEPihVQ",
        "outputId": "1e76687b-f7e5-47e7-dd05-2976cfebcb52"
      },
      "execution_count": 17,
      "outputs": [
        {
          "output_type": "stream",
          "name": "stdout",
          "text": [
            "Jumlah minimum koin yang diperlukan: 6\n"
          ]
        }
      ]
    },
    {
      "cell_type": "markdown",
      "source": [
        "####Soal 8: Kombinasi String dan Manipulasi List"
      ],
      "metadata": {
        "id": "5f2JozCTiYNK"
      }
    },
    {
      "cell_type": "code",
      "source": [
        "def reverse_words_in_string(input_string):\n",
        "    # Memisahkan string menjadi list kata-kata\n",
        "    words = input_string.split()\n",
        "    # Membalikkan setiap kata dalam list\n",
        "    reversed_words = [word[::-1] for word in words]\n",
        "    return reversed_words\n",
        "\n",
        "# Contoh penggunaan\n",
        "input_string = input(\"Masukkan sebuah kalimat: \")\n",
        "result = reverse_words_in_string(input_string)\n",
        "print(result)\n"
      ],
      "metadata": {
        "colab": {
          "base_uri": "https://localhost:8080/"
        },
        "id": "TQtGOA4WkdWR",
        "outputId": "b47334b4-4982-425c-f29f-e5ee64ee68e8"
      },
      "execution_count": 18,
      "outputs": [
        {
          "output_type": "stream",
          "name": "stdout",
          "text": [
            "Masukkan sebuah kalimat: ngampus\n",
            "['supmagn']\n"
          ]
        }
      ]
    },
    {
      "cell_type": "markdown",
      "source": [
        "#### Soal 9: Konsep Class dan Object-Oriented Programming"
      ],
      "metadata": {
        "id": "whbJCn2FlE7B"
      }
    },
    {
      "cell_type": "code",
      "source": [
        "from datetime import datetime\n",
        "\n",
        "class Buku:\n",
        "    def __init__(self, judul, penulis, tahun_terbit):\n",
        "        self.judul = judul\n",
        "        self.penulis = penulis\n",
        "        self.tahun_terbit = tahun_terbit\n",
        "\n",
        "    def tampilkan_informasi(self):\n",
        "        print(f\"Judul: {self.judul}\")\n",
        "        print(f\"Penulis: {self.penulis}\")\n",
        "        print(f\"Tahun Terbit: {self.tahun_terbit}\")\n",
        "\n",
        "    def hitung_usia(self):\n",
        "        tahun_sekarang = datetime.now().year\n",
        "        usia = tahun_sekarang - self.tahun_terbit\n",
        "        return usia\n",
        "\n",
        "# Membuat 3 objek dari class Buku\n",
        "buku1 = Buku(\"rich dad poor dad\", \"Robert T. Kiyosaki\", 1997)\n",
        "buku2 = Buku(\"Bumi Manusia\", \"Pramoedya Ananta Toer\", 1980)\n",
        "buku3 = Buku(\"Harry Potter and the Philosopher's Stone\", \"J.K. Rowling\", 1997)\n",
        "\n",
        "# Menampilkan informasi dan usia masing-masing buku\n",
        "for buku in [buku1, buku2, buku3]:\n",
        "    buku.tampilkan_informasi()\n",
        "    print(f\"Usia Buku: {buku.hitung_usia()} tahun\\n\")\n"
      ],
      "metadata": {
        "colab": {
          "base_uri": "https://localhost:8080/"
        },
        "id": "taDZk7oolFYi",
        "outputId": "8e02a9af-1a06-40b9-bebb-1f91171f5a1e"
      },
      "execution_count": 20,
      "outputs": [
        {
          "output_type": "stream",
          "name": "stdout",
          "text": [
            "Judul: rich dad poor dad\n",
            "Penulis: Robert T. Kiyosaki\n",
            "Tahun Terbit: 1997\n",
            "Usia Buku: 27 tahun\n",
            "\n",
            "Judul: Bumi Manusia\n",
            "Penulis: Pramoedya Ananta Toer\n",
            "Tahun Terbit: 1980\n",
            "Usia Buku: 44 tahun\n",
            "\n",
            "Judul: Harry Potter and the Philosopher's Stone\n",
            "Penulis: J.K. Rowling\n",
            "Tahun Terbit: 1997\n",
            "Usia Buku: 27 tahun\n",
            "\n"
          ]
        }
      ]
    },
    {
      "cell_type": "markdown",
      "source": [
        "### Soal 10: Algoritma dengan Persyaratan Logika Khusus"
      ],
      "metadata": {
        "id": "1BidTgRdl9tI"
      }
    },
    {
      "cell_type": "code",
      "source": [
        "def binary_search_even(arr, target):\n",
        "    # Periksa apakah target adalah angka ganjil\n",
        "    if target % 2 != 0:\n",
        "        return \"Nilai yang dicari adalah angka ganjil dan tidak bisa ditemukan.\"\n",
        "\n",
        "    low, high = 0, len(arr) - 1\n",
        "\n",
        "    while low <= high:\n",
        "        mid = (low + high) // 2\n",
        "        if arr[mid] == target:\n",
        "            return f\"Nilai {target} ditemukan pada indeks {mid}.\"\n",
        "        elif arr[mid] < target:\n",
        "            low = mid + 1\n",
        "        else:\n",
        "            high = mid - 1\n",
        "\n",
        "    return f\"Nilai {target} tidak ditemukan dalam list.\"\n",
        "\n",
        "# Contoh penggunaan\n",
        "even_numbers = [2, 4, 6, 8, 10, 12, 14, 16, 18, 20]\n",
        "target = 15\n",
        "result = binary_search_even(even_numbers, target)\n",
        "print(result)\n",
        "\n",
        "target = 10\n",
        "result = binary_search_even(even_numbers, target)\n",
        "print(result)\n"
      ],
      "metadata": {
        "colab": {
          "base_uri": "https://localhost:8080/"
        },
        "id": "JicsS1Vzl-Tx",
        "outputId": "97cdeffb-7afe-49ec-a1b2-fe69db483f93"
      },
      "execution_count": 21,
      "outputs": [
        {
          "output_type": "stream",
          "name": "stdout",
          "text": [
            "Nilai yang dicari adalah angka ganjil dan tidak bisa ditemukan.\n",
            "Nilai 10 ditemukan pada indeks 4.\n"
          ]
        }
      ]
    }
  ]
}