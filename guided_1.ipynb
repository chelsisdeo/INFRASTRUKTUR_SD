{
  "nbformat": 4,
  "nbformat_minor": 0,
  "metadata": {
    "colab": {
      "provenance": []
    },
    "kernelspec": {
      "name": "python3",
      "display_name": "Python 3"
    },
    "language_info": {
      "name": "python"
    }
  },
  "cells": [
    {
      "cell_type": "code",
      "execution_count": null,
      "metadata": {
        "id": "Ynj9jL3681RC",
        "colab": {
          "base_uri": "https://localhost:8080/"
        },
        "outputId": "71320214-c39b-4ed3-e814-ce78cbd74f78"
      },
      "outputs": [
        {
          "output_type": "stream",
          "name": "stdout",
          "text": [
            "Ganjil\n"
          ]
        }
      ],
      "source": [
        "number = 1\n",
        "\n",
        "if number % 2 == 0:\n",
        "  print (\"Genap\")\n",
        "else:\n",
        "  print (\"Ganjil\")"
      ]
    },
    {
      "cell_type": "code",
      "source": [
        "try:\n",
        "  result = 10 / 0\n",
        "except ZeroDivisionError:\n",
        "  print(\"Division by zero is not allowed\")"
      ],
      "metadata": {
        "colab": {
          "base_uri": "https://localhost:8080/"
        },
        "id": "W7SXmMp387pA",
        "outputId": "c32e0aa9-f6d8-4cb2-ad84-0168993fc1a7"
      },
      "execution_count": null,
      "outputs": [
        {
          "output_type": "stream",
          "name": "stdout",
          "text": [
            "Division by zero is not allowed\n"
          ]
        }
      ]
    },
    {
      "cell_type": "code",
      "source": [
        "try:\n",
        "  result = 10 / 0\n",
        "except ZeroDivisionError:\n",
        "  print(\"Division by zero is not allowed\")\n",
        "finally:\n",
        "  print(\"This will execute regardless of an exception\")"
      ],
      "metadata": {
        "colab": {
          "base_uri": "https://localhost:8080/"
        },
        "id": "n4Eno4c2Xs4W",
        "outputId": "2a877c9f-86ba-466a-8aae-5c2b18fed0f4"
      },
      "execution_count": null,
      "outputs": [
        {
          "output_type": "stream",
          "name": "stdout",
          "text": [
            "Division by zero is not allowed\n",
            "This will execute regardless of an exception\n"
          ]
        }
      ]
    },
    {
      "cell_type": "code",
      "source": [
        "class Mahasiswa:\n",
        "  def __init__(self, nama, umur, jenis_kelamin):\n",
        "    self.nama = nama\n",
        "    self.u = umur\n",
        "    self.jk = jenis_kelamin\n",
        "\n",
        "  def tampilkan_informasi(self):\n",
        "    print(f\"Nama: {self.nama}, Umur: {self.u}, Jenis Kelamin {self.jk}\")"
      ],
      "metadata": {
        "id": "7KU1Ow2DYAf3"
      },
      "execution_count": null,
      "outputs": []
    },
    {
      "cell_type": "code",
      "source": [
        "mhs = Mahasiswa('yanto', 98, 'Laki-laki')\n",
        "mhs.tampilkan_informasi() #memanggil fungsi untuk menampilkan informasi"
      ],
      "metadata": {
        "id": "jf-xzULTYDdD",
        "outputId": "81dd853d-4545-4d42-9f0a-e2c72de4e103",
        "colab": {
          "base_uri": "https://localhost:8080/"
        }
      },
      "execution_count": null,
      "outputs": [
        {
          "output_type": "stream",
          "name": "stdout",
          "text": [
            "Nama: yanto, Umur: 98, Jenis Kelamin Laki-laki\n"
          ]
        }
      ]
    },
    {
      "cell_type": "code",
      "source": [
        "class person:\n",
        "  def __init__(self,name):\n",
        "    self.name = name\n",
        "\n",
        "class Mahasiswa(person):\n",
        "  def __init__(self, name, umur):\n",
        "    super().__init__(name)\n",
        "    self.umur = umur\n",
        "\n",
        "mahasiswa = Mahasiswa(\"Alice\", 20)\n",
        "print(mahasiswa.name, mahasiswa.umur)"
      ],
      "metadata": {
        "id": "zmDcgCgCYFSJ",
        "outputId": "ddc9c119-0f23-43cb-d04c-877b9859f187",
        "colab": {
          "base_uri": "https://localhost:8080/"
        }
      },
      "execution_count": null,
      "outputs": [
        {
          "output_type": "stream",
          "name": "stdout",
          "text": [
            "Alice 20\n"
          ]
        }
      ]
    }
  ]
}